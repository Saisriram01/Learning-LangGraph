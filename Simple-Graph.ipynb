{
 "cells": [
  {
   "cell_type": "markdown",
   "id": "b417d423",
   "metadata": {},
   "source": [
    "This notebook is written while going through Langgraph introduction course on Langchain community.\n",
    "\n",
    "Most of the code is replicated from the notebooks they provided.\n",
    "\n",
    "Most likely i will upload the notes I made while going through the course for supplementing this notebook."
   ]
  },
  {
   "cell_type": "markdown",
   "id": "624b8cbf",
   "metadata": {},
   "source": [
    "### Graph Structure to build\n",
    "\n",
    "![Screenshot 2024-08-20 at 3.11.22 PM.png](https://cdn.prod.website-files.com/65b8cd72835ceeacd4449a53/66dba5f465f6e9a2482ad935_simple-graph1.png)"
   ]
  },
  {
   "cell_type": "code",
   "execution_count": 2,
   "id": "05bcddea",
   "metadata": {},
   "outputs": [],
   "source": [
    "from typing import TypedDict\n",
    "class State(TypedDict):\n",
    "    context: str"
   ]
  },
  {
   "cell_type": "markdown",
   "id": "f082fa22",
   "metadata": {},
   "source": [
    "### Nodes\n",
    "These are functions.\n",
    "In these functions we are only modifying the `state`. "
   ]
  },
  {
   "cell_type": "code",
   "execution_count": 3,
   "id": "3cc2a24d",
   "metadata": {},
   "outputs": [],
   "source": [
    "def node1(state):\n",
    "    return {\"context\": state['context'] + \"Hello\"}\n",
    "def node2(state):\n",
    "    return {\"context\": state['context'] + \"Currently at node2\"}\n",
    "\n",
    "def node3(state):\n",
    "    return{\"context\": state['context'] + \"Currently at node3\"}\n",
    "\n"
   ]
  },
  {
   "cell_type": "markdown",
   "id": "2b90b289",
   "metadata": {},
   "source": [
    "### Edges\n",
    "There are two types: Normal and Conditional edges.\n",
    "\n",
    "Normal edges: Definite path between nodes.\n",
    "\n",
    "Conditional edges: If there is a need to optionally route between nodes.\n",
    "\n",
    "Condtional edges are again functions that return a node based on some logic implemented."
   ]
  },
  {
   "cell_type": "code",
   "execution_count": 18,
   "id": "ba30cf0f",
   "metadata": {},
   "outputs": [],
   "source": [
    "import random\n",
    "from typing import Literal\n",
    "def decision_at_node1(state) -> Literal[\"node2\", \"node3\"]:  # Type-checking...allows only node2 or node3 as return values.\n",
    "    if (random.random()) < 0.5:\n",
    "        return \"node2\"\n",
    "    return \"node3\"\n"
   ]
  },
  {
   "cell_type": "markdown",
   "id": "66f520d3",
   "metadata": {},
   "source": [
    "### Graph Construction\n",
    "\n",
    "Making the graph from above components.\n",
    "\n",
    "START Node sends the user input to the graph. And END node denotes termination.\n",
    "\n"
   ]
  },
  {
   "cell_type": "code",
   "execution_count": 19,
   "id": "db231b7d",
   "metadata": {},
   "outputs": [],
   "source": [
    "from langgraph.graph import StateGraph, END, START\n",
    "\n",
    "builder = StateGraph(State)\n",
    "builder.add_node(\"node1\", node1)\n",
    "builder.add_node(\"node2\", node2)\n",
    "builder.add_node(\"node3\", node3)\n",
    "\n",
    "#Adding the edges (logic)\n",
    "builder.add_edge(START, \"node1\")\n",
    "builder.add_edge(\"node2\", END)\n",
    "builder.add_edge(\"node3\", END)\n",
    "builder.add_conditional_edges(\"node1\", decision_at_node1)\n",
    "\n",
    "graph = builder.compile()\n",
    "\n",
    "\n"
   ]
  },
  {
   "cell_type": "code",
   "execution_count": 25,
   "id": "d547c196",
   "metadata": {},
   "outputs": [
    {
     "data": {
      "text/plain": [
       "{'context': 'HelloCurrently at node3'}"
      ]
     },
     "execution_count": 25,
     "metadata": {},
     "output_type": "execute_result"
    }
   ],
   "source": [
    "graph.invoke({\"context\" : \"\"})\n"
   ]
  },
  {
   "cell_type": "code",
   "execution_count": null,
   "id": "3ac59b55",
   "metadata": {},
   "outputs": [],
   "source": []
  },
  {
   "cell_type": "code",
   "execution_count": null,
   "id": "9060c3ff",
   "metadata": {},
   "outputs": [],
   "source": []
  }
 ],
 "metadata": {
  "kernelspec": {
   "display_name": "Python 3",
   "language": "python",
   "name": "python3"
  },
  "language_info": {
   "codemirror_mode": {
    "name": "ipython",
    "version": 3
   },
   "file_extension": ".py",
   "mimetype": "text/x-python",
   "name": "python",
   "nbconvert_exporter": "python",
   "pygments_lexer": "ipython3",
   "version": "3.13.2"
  }
 },
 "nbformat": 4,
 "nbformat_minor": 5
}
