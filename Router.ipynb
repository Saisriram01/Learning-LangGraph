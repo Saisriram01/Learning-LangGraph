{
 "cells": [
  {
   "cell_type": "markdown",
   "id": "b1b582f1",
   "metadata": {},
   "source": [
    "## Router\n",
    "\n",
    "We shall use the two tools we have used in `chain_messages_tool_call.ipynb` file.\n",
    "\n",
    "Now the chat model is expected to return a normal message or tool call based on the input message.\n",
    "\n",
    "This is a basic example of an agent, where LLM is deciding what to do.\n"
   ]
  },
  {
   "cell_type": "code",
   "execution_count": 1,
   "id": "e102259c",
   "metadata": {},
   "outputs": [],
   "source": [
    "from langchain_ollama import ChatOllama\n",
    "llm = ChatOllama(model = \"qwen2.5:7b\")"
   ]
  },
  {
   "cell_type": "code",
   "execution_count": null,
   "id": "a2efab7a",
   "metadata": {},
   "outputs": [],
   "source": [
    "# Docstring is a must for a tool.....realised with an error...\n",
    "def multiply(a:int, b:int)->int:\n",
    "    \"\"\"Can be used to multiply two numbers\"\"\"\n",
    "    return a * b\n",
    "def subtract(a:int, b:int)->int:\n",
    "    \"\"\"Can be used to subtract a number from other\"\"\"\n",
    "    return a - b\n",
    "\n",
    "llm_with_tools = llm.bind_tools([multiply, subtract])"
   ]
  },
  {
   "cell_type": "markdown",
   "id": "a0d9a11c",
   "metadata": {},
   "source": [
    "There is a ToolNode that can be used for this purpose."
   ]
  },
  {
   "cell_type": "code",
   "execution_count": 6,
   "id": "8fc0f869",
   "metadata": {},
   "outputs": [],
   "source": [
    "from langgraph.graph import START, END, StateGraph, MessagesState\n",
    "from langgraph.prebuilt import ToolNode, tools_condition\n",
    "\n",
    "def tool_calling_llm(state: MessagesState):\n",
    "    return {\"messages\" : [llm_with_tools.invoke(state[\"messages\"])]}\n",
    "\n",
    "builder = StateGraph(MessagesState)\n",
    "builder.add_node(\"tool_calling_llm\", tool_calling_llm)\n",
    "builder.add_node(\"tools\", ToolNode([multiply, subtract]))\n",
    "\n",
    "builder.add_edge(START, \"tool_calling_llm\")\n",
    "builder.add_conditional_edges(\"tool_calling_llm\", tools_condition)\n",
    "builder.add_edge(\"tools\", END)\n",
    "\n",
    "graph = builder.compile()"
   ]
  },
  {
   "cell_type": "code",
   "execution_count": 8,
   "id": "0b19ddf4",
   "metadata": {},
   "outputs": [
    {
     "name": "stdout",
     "output_type": "stream",
     "text": [
      "content='2 added to 2?' additional_kwargs={} response_metadata={} id='c3c6614d-e360-48f1-a9ef-e12ecb421e6b'\n",
      "content='' additional_kwargs={} response_metadata={'model': 'qwen2.5:7b', 'created_at': '2025-04-14T09:35:13.4323994Z', 'done': True, 'done_reason': 'stop', 'total_duration': 17177273300, 'load_duration': 43662400, 'prompt_eval_count': 230, 'prompt_eval_duration': 931000000, 'eval_count': 151, 'eval_duration': 16200000000, 'message': Message(role='assistant', content='', images=None, tool_calls=None)} id='run-ea8768b1-0fc0-47ef-826f-c3d9026ddf3a-0' tool_calls=[{'name': 'subtract', 'args': {'a': 4, 'b': 2}, 'id': '18a1c876-b11e-49a0-82d2-756d676b755d', 'type': 'tool_call'}] usage_metadata={'input_tokens': 230, 'output_tokens': 151, 'total_tokens': 381}\n",
      "content='2' name='subtract' id='5e5c8e7f-3bed-4a1e-9cd6-963e3d3a7078' tool_call_id='18a1c876-b11e-49a0-82d2-756d676b755d'\n"
     ]
    }
   ],
   "source": [
    "from langchain_core.messages import HumanMessage\n",
    "messages = [HumanMessage(content=\"2 added to 2?\")]\n",
    "messages = graph.invoke({\"messages\": messages})\n",
    "for m in messages['messages']:\n",
    "    print(m)"
   ]
  },
  {
   "cell_type": "markdown",
   "id": "ceeac44e",
   "metadata": {},
   "source": [
    "Well the model has successfully muffed in above input!!!"
   ]
  }
 ],
 "metadata": {
  "kernelspec": {
   "display_name": "Python 3",
   "language": "python",
   "name": "python3"
  },
  "language_info": {
   "codemirror_mode": {
    "name": "ipython",
    "version": 3
   },
   "file_extension": ".py",
   "mimetype": "text/x-python",
   "name": "python",
   "nbconvert_exporter": "python",
   "pygments_lexer": "ipython3",
   "version": "3.13.2"
  }
 },
 "nbformat": 4,
 "nbformat_minor": 5
}
