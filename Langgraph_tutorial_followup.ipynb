{
 "cells": [
  {
   "cell_type": "markdown",
   "id": "f707d304",
   "metadata": {},
   "source": [
    "This code is built while following a youtube video by Keerti Purswani. \n",
    "\n",
    "Although this is a follow along code book, it contains my notes and some modifications.\n"
   ]
  },
  {
   "cell_type": "markdown",
   "id": "b2633bd4",
   "metadata": {},
   "source": [
    "## Langgraph\n",
    "Langgrpah uses a graph-based approach to handle complex and dynamic workflows for building LLM based applications.\n",
    "\n",
    "Some imports and followed by defining the state of the graph."
   ]
  },
  {
   "cell_type": "code",
   "execution_count": 2,
   "id": "e3489539",
   "metadata": {},
   "outputs": [],
   "source": [
    "from langchain_ollama import ChatOllama\n",
    "from langgraph.graph import StateGraph, START, END\n",
    "from typing_extensions import TypedDict\n",
    "from langchain_core.prompts import ChatPromptTemplate"
   ]
  },
  {
   "cell_type": "code",
   "execution_count": 3,
   "id": "f69bb3c2",
   "metadata": {},
   "outputs": [],
   "source": [
    "llm = ChatOllama(model = \"qwen2.5:7b\") # loading up the model that is available."
   ]
  },
  {
   "cell_type": "markdown",
   "id": "91b1505a",
   "metadata": {},
   "source": [
    "### Building a Recruitment Agency Workflow\n",
    "\n",
    "A Simple worflow that either selects an applicant if he matches the requirement or forwards for further review if the applicant is a senior-level categorization.\n",
    "\n"
   ]
  },
  {
   "cell_type": "code",
   "execution_count": 4,
   "id": "59b3e785",
   "metadata": {},
   "outputs": [],
   "source": [
    "class State(TypedDict):\n",
    "    experience: str\n",
    "    application: str\n",
    "    skill_match: str\n",
    "    response: str"
   ]
  },
  {
   "cell_type": "code",
   "execution_count": 28,
   "id": "a2e5cae9",
   "metadata": {},
   "outputs": [],
   "source": [
    "def categorizing_experience(state):\n",
    "    prompt = ChatPromptTemplate.from_template(\n",
    "        \"You are a classification assistant. Based only on the content below, classify the experience level of the application as one of the following three categories:\\n\"\n",
    "        \"- Entry-level\\n\"\n",
    "        \"- Mid-level\\n\"\n",
    "        \"- Senior-level\\n\\n\"\n",
    "        \"Respond with exactly one of the above options and nothing else.\\n\\n\"\n",
    "        \"Application:\\n{application}\"\n",
    "    )\n",
    "\n",
    "    chain = prompt | llm\n",
    "    experience_level = chain.invoke({\"application\": state[\"application\"]}).content.strip()\n",
    "\n",
    "    return {\"experience\": experience_level}\n",
    "\n"
   ]
  },
  {
   "cell_type": "code",
   "execution_count": 37,
   "id": "984b6499",
   "metadata": {},
   "outputs": [],
   "source": [
    "def assistant_to_assess(state):\n",
    "    prompt = ChatPromptTemplate.from_template(\"Based on the job application for a C++ developer, assess the candidate's skillset.\" \\\n",
    "    \"Respond strictly with either a 'Match' or 'No Match'.\" \\\n",
    "    \"Application: {application}\" \\\n",
    "    \"reply only with either 'Match' or 'No Match'\" \\\n",
    "    )\n",
    "\n",
    "    chain = prompt|llm\n",
    "    skill_match = chain.invoke({\"application\": state[\"application\"]}).content\n",
    "\n",
    "    return {\"skill_match\": skill_match}\n",
    "\n",
    "def hr_interview(state):\n",
    "    return {\"response\": \"Shortlisted for HR Interview\"}\n",
    "\n",
    "def rejection(state):\n",
    "    return {\"response\": \"Sorry to inform, rejected\"}\n",
    "\n",
    "def recruiter_to_review(state):\n",
    "    return {\"response\": \"Needs further review\"}\n"
   ]
  },
  {
   "cell_type": "code",
   "execution_count": 38,
   "id": "ce11a81f",
   "metadata": {},
   "outputs": [],
   "source": [
    "def route(state):\n",
    "    if(state[\"skill_match\"] == \"Match\"):\n",
    "        return \"hr_interview\"\n",
    "    elif state[\"experience\"] == \"Senior-level\":\n",
    "        return \"recruiter_to_review\"\n",
    "    else:\n",
    "        return \"rejection\""
   ]
  },
  {
   "cell_type": "code",
   "execution_count": 39,
   "id": "9d18a409",
   "metadata": {},
   "outputs": [],
   "source": [
    "builder = StateGraph(State)\n",
    "\n",
    "# defining the nodes of the graphs\n",
    "builder.add_node(\"categorizing_experience\", categorizing_experience)\n",
    "builder.add_node(\"assistant_to_assess\", assistant_to_assess)\n",
    "builder.add_node(\"rejection\", rejection)\n",
    "builder.add_node(\"recruiter_to_review\", recruiter_to_review)\n",
    "builder.add_node(\"hr_interview\",hr_interview)\n",
    "\n",
    "# defining the edges of the graph\n",
    "builder.add_edge(START, \"categorizing_experience\")\n",
    "builder.add_edge(\"categorizing_experience\", \"assistant_to_assess\")\n",
    "builder.add_conditional_edges(\"assistant_to_assess\", route)\n",
    "builder.add_edge(\"recruiter_to_review\", END)\n",
    "builder.add_edge(\"hr_interview\", END)\n",
    "builder.add_edge(\"recruiter_to_review\", END)\n",
    "\n",
    "graph = builder.compile()\n",
    "\n",
    "# Image(graph.get_graph().draw_mermaid_png())"
   ]
  },
  {
   "cell_type": "code",
   "execution_count": 40,
   "id": "37c10531",
   "metadata": {},
   "outputs": [
    {
     "name": "stdout",
     "output_type": "stream",
     "text": [
      "Needs further review\n"
     ]
    }
   ],
   "source": [
    "application = \"I have a 15 years experience in Python\" \n",
    "response = graph.invoke({\"application\": application})\n",
    "print(response[\"response\"])"
   ]
  }
 ],
 "metadata": {
  "kernelspec": {
   "display_name": "vrag",
   "language": "python",
   "name": "python3"
  },
  "language_info": {
   "codemirror_mode": {
    "name": "ipython",
    "version": 3
   },
   "file_extension": ".py",
   "mimetype": "text/x-python",
   "name": "python",
   "nbconvert_exporter": "python",
   "pygments_lexer": "ipython3",
   "version": "3.10.16"
  }
 },
 "nbformat": 4,
 "nbformat_minor": 5
}
