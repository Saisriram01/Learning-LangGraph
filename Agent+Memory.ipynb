{
 "cells": [
  {
   "cell_type": "markdown",
   "id": "3d64d50e",
   "metadata": {},
   "source": [
    "Once the graph state reaches the `END` all the context to the model is lost and would not be able to answer the question connected to the previous conversation.\n",
    "\n",
    "Hence there needs to be a way to store the graph at every point.\n",
    "\n",
    "In this regard we can use MemorySaver checkpointer, a in-memory solution or we can use Postgres for longer persistence.\n",
    "\n"
   ]
  },
  {
   "cell_type": "code",
   "execution_count": 2,
   "id": "24208ac9",
   "metadata": {},
   "outputs": [],
   "source": [
    "from langchain_ollama import ChatOllama\n",
    "llm = ChatOllama(model = \"qwen2.5:7b\")"
   ]
  },
  {
   "cell_type": "code",
   "execution_count": 4,
   "id": "d39b04d9",
   "metadata": {},
   "outputs": [],
   "source": [
    "def agent(state):\n",
    "    return {\"messages\": llm.invoke(state[\"messages\"])}"
   ]
  },
  {
   "cell_type": "code",
   "execution_count": 8,
   "id": "59c8dc6c",
   "metadata": {},
   "outputs": [],
   "source": [
    "from langgraph.graph import StateGraph, MessagesState, START\n",
    "\n",
    "builder = StateGraph(MessagesState)\n",
    "builder.add_node(\"agent_node\", agent)\n",
    "\n",
    "builder.add_edge(START, \"agent_node\")\n",
    "graph = builder.compile()"
   ]
  },
  {
   "cell_type": "code",
   "execution_count": 7,
   "id": "bb0b5042",
   "metadata": {},
   "outputs": [
    {
     "name": "stdout",
     "output_type": "stream",
     "text": [
      "================================\u001b[1m Human Message \u001b[0m=================================\n",
      "\n",
      "hi! my name is qwerty\n",
      "==================================\u001b[1m Ai Message \u001b[0m==================================\n",
      "\n",
      "Hello qwerty! It's nice to meet you. How can I assist you today? Feel free to ask me any questions or let me know if there's anything specific you'd like to discuss.\n",
      "================================\u001b[1m Human Message \u001b[0m=================================\n",
      "\n",
      "what's my name?\n",
      "==================================\u001b[1m Ai Message \u001b[0m==================================\n",
      "\n",
      "Your name was not provided in the question. Could you please tell me your name so I can assist you better?\n"
     ]
    }
   ],
   "source": [
    "input_message = {\"role\": \"user\", \"content\": \"hi! my name is qwerty\"}\n",
    "for chunk in graph.stream({\"messages\": [input_message]}, stream_mode=\"values\"):\n",
    "    chunk[\"messages\"][-1].pretty_print()\n",
    "\n",
    "input_message = {\"role\": \"user\", \"content\": \"what's my name?\"}\n",
    "for chunk in graph.stream({\"messages\": [input_message]}, stream_mode=\"values\"):\n",
    "    chunk[\"messages\"][-1].pretty_print()"
   ]
  },
  {
   "cell_type": "markdown",
   "id": "013547a6",
   "metadata": {},
   "source": [
    "The graph did not remember my name across multiple invokes. We need to add some kind of persistence for it to remember."
   ]
  },
  {
   "cell_type": "code",
   "execution_count": 9,
   "id": "cd12ab64",
   "metadata": {},
   "outputs": [],
   "source": [
    "from langgraph.checkpoint.memory import MemorySaver\n",
    "memory = MemorySaver()\n",
    "graph = builder.compile(checkpointer= memory)"
   ]
  },
  {
   "cell_type": "code",
   "execution_count": 10,
   "id": "f6b3595e",
   "metadata": {},
   "outputs": [
    {
     "name": "stdout",
     "output_type": "stream",
     "text": [
      "================================\u001b[1m Human Message \u001b[0m=================================\n",
      "\n",
      "hi! my name is qwerty\n",
      "==================================\u001b[1m Ai Message \u001b[0m==================================\n",
      "\n",
      "Hello qwerty! Nice to meet you. How can I assist you today? Is there anything specific you'd like to talk about or any questions you have?\n"
     ]
    }
   ],
   "source": [
    "config = {\"configurable\": {\"thread_id\": \"1\"}}\n",
    "input_message = {\"role\": \"user\", \"content\": \"hi! my name is qwerty\"}\n",
    "for chunk in graph.stream({\"messages\": [input_message]}, config, stream_mode=\"values\"):\n",
    "    chunk[\"messages\"][-1].pretty_print()"
   ]
  },
  {
   "cell_type": "code",
   "execution_count": 11,
   "id": "2bf56819",
   "metadata": {},
   "outputs": [
    {
     "name": "stdout",
     "output_type": "stream",
     "text": [
      "================================\u001b[1m Human Message \u001b[0m=================================\n",
      "\n",
      "what's my name?\n",
      "==================================\u001b[1m Ai Message \u001b[0m==================================\n",
      "\n",
      "Your name is qwerty. How about we use a more common name for our conversation, or do you prefer to keep it as qwerty?\n"
     ]
    }
   ],
   "source": [
    "input_message = {\"role\": \"user\", \"content\": \"what's my name?\"}\n",
    "for chunk in graph.stream({\"messages\": [input_message]}, config, stream_mode=\"values\"):\n",
    "    chunk[\"messages\"][-1].pretty_print()"
   ]
  },
  {
   "cell_type": "markdown",
   "id": "7c00a329",
   "metadata": {},
   "source": [
    "We can pass in different thread id to start a new conversation."
   ]
  }
 ],
 "metadata": {
  "kernelspec": {
   "display_name": "Python 3",
   "language": "python",
   "name": "python3"
  },
  "language_info": {
   "codemirror_mode": {
    "name": "ipython",
    "version": 3
   },
   "file_extension": ".py",
   "mimetype": "text/x-python",
   "name": "python",
   "nbconvert_exporter": "python",
   "pygments_lexer": "ipython3",
   "version": "3.13.2"
  }
 },
 "nbformat": 4,
 "nbformat_minor": 5
}
